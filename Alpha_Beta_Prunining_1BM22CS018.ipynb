{
  "nbformat": 4,
  "nbformat_minor": 0,
  "metadata": {
    "colab": {
      "provenance": []
    },
    "kernelspec": {
      "name": "python3",
      "display_name": "Python 3"
    },
    "language_info": {
      "name": "python"
    }
  },
  "cells": [
    {
      "cell_type": "code",
      "source": [
        "import math\n",
        "\n",
        "def alpha_beta_pruning(depth, node_index, maximizing_player, values, alpha, beta):\n",
        "    if depth == 0 or node_index >= len(values):\n",
        "        return values[node_index]\n",
        "\n",
        "    if maximizing_player:\n",
        "        max_eval = -math.inf\n",
        "        for i in range(2):\n",
        "            eval_value = alpha_beta_pruning(depth - 1, node_index * 2 + i, False, values, alpha, beta)\n",
        "            max_eval = max(max_eval, eval_value)\n",
        "            alpha = max(alpha, eval_value)\n",
        "            if beta <= alpha:\n",
        "                break\n",
        "        return max_eval\n",
        "    else:\n",
        "        min_eval = math.inf\n",
        "        for i in range(2):\n",
        "            eval_value = alpha_beta_pruning(depth - 1, node_index * 2 + i, True, values, alpha, beta)\n",
        "            min_eval = min(min_eval, eval_value)\n",
        "            beta = min(beta, eval_value)\n",
        "            if beta <= alpha:\n",
        "                break\n",
        "        return min_eval\n",
        "\n",
        "if __name__ == \"__main__\":\n",
        "    print(\"Alpha-Beta Pruning Algorithm\")\n",
        "    depth = int(input(\"Enter the depth of the game tree: \"))\n",
        "    values = list(map(int, input(\"Enter the leaf node values as space-separated integers: \").split()))\n",
        "\n",
        "    print(\"\\nStarting Alpha-Beta Pruning...\")\n",
        "    optimal_value = alpha_beta_pruning(depth, 0, True, values, -math.inf, math.inf)\n",
        "    print(\"\\nOptimal Value (Root Node):\", optimal_value)\n"
      ],
      "metadata": {
        "colab": {
          "base_uri": "https://localhost:8080/"
        },
        "id": "zMX9-s-zzPsa",
        "outputId": "596317ff-322f-4efa-8ff1-587fc0207031"
      },
      "execution_count": 7,
      "outputs": [
        {
          "output_type": "stream",
          "name": "stdout",
          "text": [
            "Alpha-Beta Pruning Algorithm\n",
            "Enter the depth of the game tree: 3\n",
            "Enter the leaf node values as space-separated integers: 10 9 14 18 5 4 50 3\n",
            "\n",
            "Starting Alpha-Beta Pruning...\n",
            "\n",
            "Optimal Value (Root Node): 10\n"
          ]
        }
      ]
    }
  ]
}