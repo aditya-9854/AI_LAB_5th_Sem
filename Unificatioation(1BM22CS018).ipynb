{
  "nbformat": 4,
  "nbformat_minor": 0,
  "metadata": {
    "colab": {
      "provenance": []
    },
    "kernelspec": {
      "name": "python3",
      "display_name": "Python 3"
    },
    "language_info": {
      "name": "python"
    }
  },
  "cells": [
    {
      "cell_type": "code",
      "source": [
        "from collections import deque\n",
        "\n",
        "def unify(term1, term2):\n",
        "    \"\"\"\n",
        "    Unifies two terms, returning a substitution dictionary if unification is possible,\n",
        "    or raising an exception if unification fails.\n",
        "    \"\"\"\n",
        "    substitution = {}\n",
        "    worklist = deque([(term1, term2)])\n",
        "\n",
        "    while worklist:\n",
        "        t1, t2 = worklist.popleft()\n",
        "\n",
        "        if t1 == t2:\n",
        "            continue\n",
        "\n",
        "        elif is_variable(t1):\n",
        "            if t1 in substitution:\n",
        "                worklist.append((substitution[t1], t2))\n",
        "            else:\n",
        "                substitution[t1] = t2\n",
        "\n",
        "        elif is_variable(t2):\n",
        "            if t2 in substitution:\n",
        "                worklist.append((t1, substitution[t2]))\n",
        "            else:\n",
        "                substitution[t2] = t1\n",
        "\n",
        "        elif isinstance(t1, tuple) and isinstance(t2, tuple):\n",
        "            if t1[0] == t2[0]:\n",
        "                worklist.extend(zip(t1[1:], t2[1:]))\n",
        "            else:\n",
        "                raise Exception(f\"Cannot unify {t1} with {t2}\")\n",
        "\n",
        "        else:\n",
        "            raise Exception(f\"Cannot unify {t1} with {t2}\")\n",
        "\n",
        "    return substitution\n",
        "\n",
        "def is_variable(term):\n",
        "    \"\"\"Checks if the term is a variable (starts with a lowercase letter)\"\"\"\n",
        "    return isinstance(term, str) and term.islower()\n",
        "\n",
        "def apply_substitution(substitution, term):\n",
        "    \"\"\"Applies a substitution to a term\"\"\"\n",
        "    if term in substitution:\n",
        "        return apply_substitution(substitution, substitution[term])\n",
        "    elif isinstance(term, tuple):\n",
        "        return (term[0],) + tuple(apply_substitution(substitution, arg) for arg in term[1:])\n",
        "    else:\n",
        "        return term\n",
        "\n",
        "def parse_term(term_str):\n",
        "    \"\"\"Parses a term from a string input (e.g., 'f(x, g(y))') into a Python tuple.\"\"\"\n",
        "    term_str = term_str.strip()\n",
        "    if '(' not in term_str:\n",
        "        return term_str  # Return as string if it's a constant or variable\n",
        "    func_name = term_str.split('(')[0]\n",
        "    args_str = term_str[len(func_name)+1:-1]\n",
        "    args = [parse_term(arg.strip()) for arg in args_str.split(',')]\n",
        "    return (func_name,) + tuple(args)\n",
        "\n",
        "# Main function to take user input\n",
        "def main():\n",
        "    try:\n",
        "        # Take user input for two terms to unify\n",
        "        print(\"Enter first term (e.g., f(x, g(y)))\")\n",
        "        term1_str = input(\"Term 1: \")\n",
        "        term1 = parse_term(term1_str)\n",
        "\n",
        "        print(\"Enter second term (e.g., f(x, g(z)))\")\n",
        "        term2_str = input(\"Term 2: \")\n",
        "        term2 = parse_term(term2_str)\n",
        "\n",
        "        # Perform unification\n",
        "        substitution = unify(term1, term2)\n",
        "        print(\"Unification successful. Substitutions:\", substitution)\n",
        "\n",
        "        # Apply the substitution and show the unified term\n",
        "        unified_term = apply_substitution(substitution, term1)\n",
        "        print(\"Unified term:\", unified_term)\n",
        "\n",
        "    except Exception as e:\n",
        "        print(\"Unification failed:\", e)\n",
        "\n",
        "# Run the program\n",
        "if __name__ == \"__main__\":\n",
        "    main()\n"
      ],
      "metadata": {
        "colab": {
          "base_uri": "https://localhost:8080/"
        },
        "id": "jYYUvXethohD",
        "outputId": "1afd327e-79cf-44a2-da90-edb6e3fd7114"
      },
      "execution_count": 2,
      "outputs": [
        {
          "output_type": "stream",
          "name": "stdout",
          "text": [
            "Enter first term (e.g., f(x, g(y)))\n",
            "Term 1: f(x,g(y))\n",
            "Enter second term (e.g., f(x, g(z)))\n",
            "Term 2: f(x, g(z))\n",
            "Unification successful. Substitutions: {'y': 'z'}\n",
            "Unified term: ('f', 'x', ('g', 'z'))\n"
          ]
        }
      ]
    }
  ]
}