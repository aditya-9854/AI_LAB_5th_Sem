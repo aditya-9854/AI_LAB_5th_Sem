{
  "nbformat": 4,
  "nbformat_minor": 0,
  "metadata": {
    "colab": {
      "provenance": []
    },
    "kernelspec": {
      "name": "python3",
      "display_name": "Python 3"
    },
    "language_info": {
      "name": "python"
    }
  },
  "cells": [
    {
      "cell_type": "code",
      "execution_count": 2,
      "metadata": {
        "colab": {
          "base_uri": "https://localhost:8080/"
        },
        "id": "QKvezZCdePGv",
        "outputId": "4fc13ebe-80ac-4e7e-f472-5519b0ada547"
      },
      "outputs": [
        {
          "output_type": "stream",
          "name": "stdout",
          "text": [
            "\n",
            "Final Facts:\n",
            "Human(Socrates)\n",
            "Human(Plato)\n"
          ]
        }
      ],
      "source": [
        "class FOLForwardReasoning:\n",
        "    def __init__(self):\n",
        "        self.facts = set()  # A set of known facts\n",
        "        self.rules = []     # A list of rules in the form of (premise, conclusion)\n",
        "\n",
        "    def add_fact(self, fact):\n",
        "        \"\"\"Add a fact to the knowledge base.\"\"\"\n",
        "        self.facts.add(fact)\n",
        "\n",
        "    def add_rule(self, premise, conclusion):\n",
        "        \"\"\"Add a rule to the knowledge base.\"\"\"\n",
        "        self.rules.append((premise, conclusion))\n",
        "\n",
        "    def apply_rule(self, rule):\n",
        "        \"\"\"Apply a rule to the facts to infer new facts.\"\"\"\n",
        "        premise, conclusion = rule\n",
        "        if premise in self.facts:\n",
        "            if conclusion not in self.facts:\n",
        "                print(f\"Derived new fact: {conclusion}\")\n",
        "                self.facts.add(conclusion)\n",
        "\n",
        "    def forward_chain(self):\n",
        "        \"\"\"Perform forward chaining to derive new facts.\"\"\"\n",
        "        new_facts = True\n",
        "        while new_facts:\n",
        "            new_facts = False\n",
        "            for rule in self.rules:\n",
        "                # Apply rule if the premise is in the facts\n",
        "                if rule[0] in self.facts:\n",
        "                    if rule[1] not in self.facts:\n",
        "                        self.apply_rule(rule)\n",
        "                        new_facts = True\n",
        "\n",
        "    def get_facts(self):\n",
        "        \"\"\"Return the current set of facts.\"\"\"\n",
        "        return self.facts\n",
        "\n",
        "\n",
        "# Example Usage\n",
        "\n",
        "# Initialize the reasoning system\n",
        "reasoner = FOLForwardReasoning()\n",
        "\n",
        "# Add some initial facts\n",
        "reasoner.add_fact('Human(Socrates)')\n",
        "reasoner.add_fact('Human(Plato)')\n",
        "\n",
        "# Add a rule: \"If x is a human, then x is mortal\"\n",
        "reasoner.add_rule('Human(x)', 'Mortal(x)')\n",
        "\n",
        "# Perform forward chaining\n",
        "reasoner.forward_chain()\n",
        "\n",
        "# Output all derived facts\n",
        "print(\"\\nFinal Facts:\")\n",
        "for fact in reasoner.get_facts():\n",
        "    print(fact)\n"
      ]
    }
  ]
}